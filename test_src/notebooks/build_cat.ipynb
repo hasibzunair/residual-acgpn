{
 "cells": [
  {
   "cell_type": "markdown",
   "id": "d56d65db-0ef8-47a2-bfeb-815ec0de1717",
   "metadata": {},
   "source": [
    "# NB to build category txt files from https://github.com/minar09/ACGPN/tree/master/Data_preprocessing\n",
    "* Read cat txt\n",
    "* Read data paths"
   ]
  },
  {
   "cell_type": "code",
   "execution_count": null,
   "id": "5d1641d2-41f0-49fe-9020-509fe3c15d3b",
   "metadata": {},
   "outputs": [],
   "source": [
    "import os "
   ]
  },
  {
   "cell_type": "code",
   "execution_count": null,
   "id": "f974a583-9591-4f1a-b83b-a85b95bfaa0b",
   "metadata": {},
   "outputs": [],
   "source": [
    "vals = []\n",
    "with open(os.path.join(\"/home/hz/tryon-2d/datasets/acgpn_data/try_on_testing/hard.txt\"), 'r') as f:\n",
    "    for line in f.readlines():\n",
    "        vals.append(line[:-1])"
   ]
  },
  {
   "cell_type": "code",
   "execution_count": null,
   "id": "99981f57-8ff2-476f-85f7-f1c574029f5f",
   "metadata": {},
   "outputs": [],
   "source": [
    "vals[:3]"
   ]
  },
  {
   "cell_type": "code",
   "execution_count": null,
   "id": "32bfd4df-611f-4c03-b615-651fb8801828",
   "metadata": {},
   "outputs": [],
   "source": [
    "new_vals = [x[:7] + '1' + x[8:] for x in vals]\n",
    "new_vals[:3]"
   ]
  },
  {
   "cell_type": "code",
   "execution_count": null,
   "id": "3ab26f9f-0818-4db3-9697-82298456a481",
   "metadata": {},
   "outputs": [],
   "source": [
    "with open(os.path.join(\"/home/hz/tryon-2d/datasets/acgpn_data/try_on_testing/hard_same.txt\"), 'w') as f:\n",
    "    for x,y in zip(vals, new_vals):\n",
    "        f.write(x)\n",
    "        f.write(\" \")\n",
    "        f.write(y)\n",
    "        f.write(\"\\n\")\n",
    "        \n",
    "f.close()"
   ]
  },
  {
   "cell_type": "code",
   "execution_count": null,
   "id": "dccf05f6-cbdf-43ea-b538-ec301fab3875",
   "metadata": {},
   "outputs": [],
   "source": []
  }
 ],
 "metadata": {
  "kernelspec": {
   "display_name": "Python 3 (ipykernel)",
   "language": "python",
   "name": "python3"
  },
  "language_info": {
   "codemirror_mode": {
    "name": "ipython",
    "version": 3
   },
   "file_extension": ".py",
   "mimetype": "text/x-python",
   "name": "python",
   "nbconvert_exporter": "python",
   "pygments_lexer": "ipython3",
   "version": "3.8.11"
  }
 },
 "nbformat": 4,
 "nbformat_minor": 5
}
