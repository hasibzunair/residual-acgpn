{
 "cells": [
  {
   "cell_type": "code",
   "execution_count": 1,
   "id": "5a2f59d4-2cfb-4a40-9562-3d54f5c87d66",
   "metadata": {},
   "outputs": [],
   "source": [
    "%load_ext autoreload\n",
    "%autoreload 2"
   ]
  },
  {
   "cell_type": "code",
   "execution_count": 2,
   "id": "a6c27a4a-2cd5-4e55-ac51-848259cb2d6b",
   "metadata": {},
   "outputs": [],
   "source": [
    "import os,sys,inspect\n",
    "sys.path.insert(0,\"..\")"
   ]
  },
  {
   "cell_type": "code",
   "execution_count": null,
   "id": "7537c6d9-977b-4464-88e3-fdb97750e732",
   "metadata": {},
   "outputs": [],
   "source": []
  },
  {
   "cell_type": "code",
   "execution_count": null,
   "id": "0c48218e-3ce7-43b5-a12f-7d87d51a2808",
   "metadata": {},
   "outputs": [],
   "source": []
  },
  {
   "cell_type": "code",
   "execution_count": 3,
   "id": "a48fa7a1-4b78-455e-8616-2e47beddc4db",
   "metadata": {},
   "outputs": [
    {
     "name": "stdout",
     "output_type": "stream",
     "text": [
      "?\n"
     ]
    }
   ],
   "source": [
    "import time\n",
    "from collections import OrderedDict\n",
    "from options.train_options import TrainOptions\n",
    "from data.data_loader import CreateDataLoader\n",
    "from models.models import create_model\n",
    "import util.util as util\n",
    "import os\n",
    "import numpy as np\n",
    "import torch\n",
    "from torch.autograd import Variable\n",
    "from tensorboardX import SummaryWriter\n",
    "import cv2"
   ]
  },
  {
   "cell_type": "code",
   "execution_count": 4,
   "id": "af84dc47-d388-4fa6-af70-4d10520739d2",
   "metadata": {},
   "outputs": [],
   "source": [
    "writer = SummaryWriter('runs/G1G2')\n",
    "SIZE=320\n",
    "NC=14\n",
    "def generate_label_plain(inputs):\n",
    "    size = inputs.size()\n",
    "    pred_batch = []\n",
    "    for input in inputs:\n",
    "        input = input.view(1, NC, 256,192)\n",
    "        pred = np.squeeze(input.data.max(1)[1].cpu().numpy(), axis=0)\n",
    "        pred_batch.append(pred)\n",
    "\n",
    "    pred_batch = np.array(pred_batch)\n",
    "    pred_batch = torch.from_numpy(pred_batch)\n",
    "    label_batch = pred_batch.view(size[0], 1, 256,192)\n",
    "\n",
    "    return label_batch\n",
    "\n",
    "def generate_label_color(inputs):\n",
    "    label_batch = []\n",
    "    for i in range(len(inputs)):\n",
    "        label_batch.append(util.tensor2label(inputs[i], opt.label_nc))\n",
    "    label_batch = np.array(label_batch)\n",
    "    label_batch = label_batch * 2 - 1\n",
    "    input_label = torch.from_numpy(label_batch)\n",
    "\n",
    "    return input_label\n",
    "def complete_compose(img,mask,label):\n",
    "    label=label.cpu().numpy()\n",
    "    M_f=label>0\n",
    "    M_f=M_f.astype(np.int)\n",
    "    M_f=torch.FloatTensor(M_f).cuda()\n",
    "    masked_img=img*(1-mask)\n",
    "    M_c=(1-mask.cuda())*M_f\n",
    "    M_c=M_c+torch.zeros(img.shape).cuda()##broadcasting\n",
    "    return masked_img,M_c,M_f\n",
    "\n",
    "def compose(label,mask,color_mask,edge,color,noise):\n",
    "    # check=check>0\n",
    "    # print(check)\n",
    "    masked_label=label*(1-mask)\n",
    "    masked_edge=mask*edge\n",
    "    masked_color_strokes=mask*(1-color_mask)*color\n",
    "    masked_noise=mask*noise\n",
    "    return masked_label,masked_edge,masked_color_strokes,masked_noise\n",
    "def changearm(old_label):\n",
    "    label=old_label\n",
    "    arm1=torch.FloatTensor((data['label'].cpu().numpy()==11).astype(np.int))\n",
    "    arm2=torch.FloatTensor((data['label'].cpu().numpy()==13).astype(np.int))\n",
    "    noise=torch.FloatTensor((data['label'].cpu().numpy()==7).astype(np.int))\n",
    "    label=label*(1-arm1)+arm1*4\n",
    "    label=label*(1-arm2)+arm2*4\n",
    "    label=label*(1-noise)+noise*4\n",
    "    return label"
   ]
  },
  {
   "cell_type": "code",
   "execution_count": 5,
   "id": "ba48e251-50ef-45a0-95ba-9672367df971",
   "metadata": {},
   "outputs": [
    {
     "name": "stdout",
     "output_type": "stream",
     "text": [
      "/home/hz/tryon/test_src/notebooks\n"
     ]
    }
   ],
   "source": [
    "!pwd"
   ]
  },
  {
   "cell_type": "code",
   "execution_count": 6,
   "id": "40dd6928-c5c4-4625-a603-89320bcb040d",
   "metadata": {},
   "outputs": [
    {
     "name": "stdout",
     "output_type": "stream",
     "text": [
      "------------ Options -------------\n",
      "batchSize: 1\n",
      "beta1: 0.5\n",
      "checkpoints_dir: ./checkpoints\n",
      "continue_train: False\n",
      "data_type: 32\n",
      "dataroot: ../datasets/acgpn_data/try_on_testing/\n",
      "debug: False\n",
      "display_freq: 100\n",
      "display_winsize: 512\n",
      "fineSize: 512\n",
      "gpu_ids: [0]\n",
      "input_nc: 3\n",
      "isTrain: True\n",
      "label_nc: 20\n",
      "lambda_feat: 10.0\n",
      "loadSize: 512\n",
      "load_pretrain: ./checkpoints/label2city\n",
      "lr: 0.0002\n",
      "max_dataset_size: inf\n",
      "model: pix2pixHD\n",
      "nThreads: 2\n",
      "n_blocks_global: 4\n",
      "n_blocks_local: 3\n",
      "n_downsample_global: 4\n",
      "n_layers_D: 3\n",
      "n_local_enhancers: 1\n",
      "name: label2city\n",
      "ndf: 64\n",
      "netG: global\n",
      "ngf: 64\n",
      "niter: 100\n",
      "niter_decay: 100\n",
      "niter_fix_global: 0\n",
      "no_flip: False\n",
      "no_ganFeat_loss: False\n",
      "no_html: False\n",
      "no_lsgan: False\n",
      "no_vgg_loss: False\n",
      "norm: instance\n",
      "num_D: 2\n",
      "output_nc: 3\n",
      "phase: test\n",
      "pool_size: 0\n",
      "print_freq: 100\n",
      "resize_or_crop: scale_width\n",
      "save_epoch_freq: 10\n",
      "save_latest_freq: 1000\n",
      "serial_batches: False\n",
      "tf_log: False\n",
      "use_dropout: False\n",
      "verbose: False\n",
      "which_epoch: latest\n",
      "-------------- End ----------------\n"
     ]
    }
   ],
   "source": [
    "os.makedirs('../sample_eda',exist_ok=True)\n",
    "opt = TrainOptions().parse()\n",
    "\n",
    "# Load models\n",
    "opt.load_pretrain = '../checkpoints/acgpn_5000'\n",
    "\n",
    "# Change to run on notebook\n",
    "opt.dataroot = \"../../datasets/acgpn_data/try_on_testing/\"\n",
    "\n",
    "iter_path = os.path.join(opt.checkpoints_dir, opt.name, 'iter.txt')"
   ]
  },
  {
   "cell_type": "code",
   "execution_count": 7,
   "id": "683498ee-d534-4a73-86c7-ff75e0f99f9b",
   "metadata": {},
   "outputs": [
    {
     "data": {
      "text/plain": [
       "Namespace(batchSize=1, beta1=0.5, checkpoints_dir='./checkpoints', continue_train=False, data_type=32, dataroot='../../datasets/acgpn_data/try_on_testing/', debug=False, display_freq=100, display_winsize=512, fineSize=512, gpu_ids=[0], input_nc=3, isTrain=True, label_nc=20, lambda_feat=10.0, loadSize=512, load_pretrain='../checkpoints/acgpn_5000', lr=0.0002, max_dataset_size=inf, model='pix2pixHD', nThreads=2, n_blocks_global=4, n_blocks_local=3, n_downsample_global=4, n_layers_D=3, n_local_enhancers=1, name='label2city', ndf=64, netG='global', ngf=64, niter=100, niter_decay=100, niter_fix_global=0, no_flip=False, no_ganFeat_loss=False, no_html=False, no_lsgan=False, no_vgg_loss=False, norm='instance', num_D=2, output_nc=3, phase='test', pool_size=0, print_freq=100, resize_or_crop='scale_width', save_epoch_freq=10, save_latest_freq=1000, serial_batches=False, tf_log=False, use_dropout=False, verbose=False, which_epoch='latest')"
      ]
     },
     "execution_count": 7,
     "metadata": {},
     "output_type": "execute_result"
    }
   ],
   "source": [
    "opt"
   ]
  },
  {
   "cell_type": "code",
   "execution_count": 8,
   "id": "9cb772e4-a823-4a60-aa43-2b734fa0c1b4",
   "metadata": {},
   "outputs": [],
   "source": [
    "if opt.continue_train:\n",
    "    try:\n",
    "        start_epoch, epoch_iter = np.loadtxt(iter_path , delimiter=',', dtype=int)\n",
    "    except:\n",
    "        start_epoch, epoch_iter = 1, 0\n",
    "    print('Resuming from epoch %d at iteration %d' % (start_epoch, epoch_iter))        \n",
    "else:    \n",
    "    start_epoch, epoch_iter = 1, 0"
   ]
  },
  {
   "cell_type": "code",
   "execution_count": 9,
   "id": "bdb0fdf1-7f7f-46c2-a919-298a0412c27d",
   "metadata": {},
   "outputs": [
    {
     "data": {
      "text/plain": [
       "1"
      ]
     },
     "execution_count": 9,
     "metadata": {},
     "output_type": "execute_result"
    }
   ],
   "source": [
    "start_epoch"
   ]
  },
  {
   "cell_type": "code",
   "execution_count": 10,
   "id": "1df327ac-e988-4a12-912c-7cc09787187c",
   "metadata": {},
   "outputs": [],
   "source": [
    "if opt.debug:\n",
    "    opt.display_freq = 1\n",
    "    opt.print_freq = 1\n",
    "    opt.niter = 1\n",
    "    opt.niter_decay = 0\n",
    "    opt.max_dataset_size = 10\n",
    "    "
   ]
  },
  {
   "cell_type": "code",
   "execution_count": null,
   "id": "03a653ec-fbe3-4bbe-9799-fea69116718a",
   "metadata": {},
   "outputs": [],
   "source": []
  },
  {
   "cell_type": "code",
   "execution_count": 11,
   "id": "01bb4cf1-84c2-438e-b0fa-c4da4e95d5a2",
   "metadata": {},
   "outputs": [
    {
     "name": "stdout",
     "output_type": "stream",
     "text": [
      "CustomDatasetDataLoader\n",
      "dataset [AlignedDataset] was created\n",
      "../../datasets/acgpn_data/try_on_testing/test_label label\n",
      "../../datasets/acgpn_data/try_on_testing/test_label label\n",
      "../../datasets/acgpn_data/try_on_testing/test_img img\n",
      "../../datasets/acgpn_data/try_on_testing/test_img img\n",
      "../../datasets/acgpn_data/try_on_testing/test_edge edge\n",
      "../../datasets/acgpn_data/try_on_testing/test_edge edge\n",
      "../../datasets/acgpn_data/try_on_testing/test_mask mask\n",
      "../../datasets/acgpn_data/try_on_testing/test_mask mask\n",
      "../../datasets/acgpn_data/try_on_testing/test_colormask colormask\n",
      "../../datasets/acgpn_data/try_on_testing/test_colormask colormask\n",
      "../../datasets/acgpn_data/try_on_testing/test_color color\n",
      "../../datasets/acgpn_data/try_on_testing/test_color color\n",
      "# Inference images = 2032\n"
     ]
    }
   ],
   "source": [
    "data_loader = CreateDataLoader(opt)\n",
    "dataset = data_loader.load_data()\n",
    "dataset_size = len(data_loader)\n",
    "print('# Inference images = %d' % dataset_size)"
   ]
  },
  {
   "cell_type": "code",
   "execution_count": null,
   "id": "d616c470-83bd-4bc5-a044-fe4e04a27bee",
   "metadata": {},
   "outputs": [],
   "source": []
  },
  {
   "cell_type": "code",
   "execution_count": 12,
   "id": "96712e78-2fc0-419a-a7e9-0d607cb8db9c",
   "metadata": {},
   "outputs": [
    {
     "name": "stdout",
     "output_type": "stream",
     "text": [
      "latest_net_U.pth\n",
      "latest_net_G1.pth\n",
      "latest_net_G2.pth\n",
      "latest_net_G.pth\n"
     ]
    }
   ],
   "source": [
    "model = create_model(opt)"
   ]
  },
  {
   "cell_type": "code",
   "execution_count": 13,
   "id": "1a5a19c9-76ce-403c-ae23-57c29c27b635",
   "metadata": {},
   "outputs": [],
   "source": [
    "total_steps = (start_epoch-1) * dataset_size + epoch_iter\n",
    "\n",
    "display_delta = total_steps % opt.display_freq\n",
    "print_delta = total_steps % opt.print_freq\n",
    "save_delta = total_steps % opt.save_latest_freq"
   ]
  },
  {
   "cell_type": "code",
   "execution_count": 14,
   "id": "f2ecfbbf-2637-498a-881a-bcfee7e6f1b6",
   "metadata": {},
   "outputs": [
    {
     "name": "stderr",
     "output_type": "stream",
     "text": [
      "/home/hz/anaconda3/envs/comp6321/lib/python3.8/site-packages/torchvision/transforms/transforms.py:310: UserWarning: The use of the transforms.Scale transform is deprecated, please use transforms.Resize instead.\n",
      "  warnings.warn(\"The use of the transforms.Scale transform is deprecated, \" +\n",
      "/home/hz/anaconda3/envs/comp6321/lib/python3.8/site-packages/torchvision/transforms/transforms.py:280: UserWarning: Argument interpolation should be of type InterpolationMode instead of int. Please, use InterpolationMode enum.\n",
      "  warnings.warn(\n",
      "/home/hz/anaconda3/envs/comp6321/lib/python3.8/site-packages/torchvision/transforms/transforms.py:310: UserWarning: The use of the transforms.Scale transform is deprecated, please use transforms.Resize instead.\n",
      "  warnings.warn(\"The use of the transforms.Scale transform is deprecated, \" +\n",
      "/home/hz/anaconda3/envs/comp6321/lib/python3.8/site-packages/torchvision/transforms/transforms.py:280: UserWarning: Argument interpolation should be of type InterpolationMode instead of int. Please, use InterpolationMode enum.\n",
      "  warnings.warn(\n"
     ]
    }
   ],
   "source": [
    "data_dummy = next(iter(dataset))"
   ]
  },
  {
   "cell_type": "code",
   "execution_count": 15,
   "id": "e0cae560-00ef-4465-a56b-77382695887a",
   "metadata": {},
   "outputs": [
    {
     "data": {
      "text/plain": [
       "dict_keys(['label', 'label_ref', 'image', 'image_ref', 'path', 'path_ref', 'edge', 'color', 'mask', 'colormask', 'pose', 'name'])"
      ]
     },
     "execution_count": 15,
     "metadata": {},
     "output_type": "execute_result"
    }
   ],
   "source": [
    "data_dummy.keys()"
   ]
  },
  {
   "cell_type": "code",
   "execution_count": 16,
   "id": "2cefd13d-005a-450f-b2f9-ac840a23bc18",
   "metadata": {},
   "outputs": [
    {
     "data": {
      "text/plain": [
       "(['../../datasets/acgpn_data/try_on_testing/test_label/010770_0.png'],\n",
       " ['../../datasets/acgpn_data/try_on_testing/test_label/013948_0.png'],\n",
       " ['010770_0.jpg'])"
      ]
     },
     "execution_count": 16,
     "metadata": {},
     "output_type": "execute_result"
    }
   ],
   "source": [
    "data_dummy['path'], data_dummy['path_ref'], data_dummy['name']"
   ]
  },
  {
   "cell_type": "code",
   "execution_count": 17,
   "id": "a6b48237-c448-4d85-88b5-634523d5d582",
   "metadata": {},
   "outputs": [],
   "source": [
    "import cv2\n",
    "from PIL import Image, ImageDraw\n",
    "import matplotlib.pyplot as plt"
   ]
  },
  {
   "cell_type": "code",
   "execution_count": 18,
   "id": "d8b39e8d-1393-4c55-a20b-78543b6b2c9e",
   "metadata": {},
   "outputs": [],
   "source": [
    "A = cv2.imread(data_dummy['path'][0], -1)\n",
    "B = cv2.imread(data_dummy['path_ref'][0], -1)"
   ]
  },
  {
   "cell_type": "code",
   "execution_count": 19,
   "id": "35dab868-4c37-49d9-b74b-336ad491d8b7",
   "metadata": {},
   "outputs": [
    {
     "data": {
      "image/png": "[encoded data removed]",
      "text/plain": [
       "<Figure size 432x288 with 1 Axes>"
      ]
     },
     "metadata": {
      "needs_background": "light"
     },
     "output_type": "display_data"
    }
   ],
   "source": [
    "img_stack = np.hstack((A, B))\n",
    "plt.imshow(img_stack)\n",
    "plt.show()"
   ]
  },
  {
   "cell_type": "code",
   "execution_count": 20,
   "id": "5a0567ba-1126-495d-98d4-d328e08246f2",
   "metadata": {},
   "outputs": [
    {
     "data": {
      "text/plain": [
       "100"
      ]
     },
     "execution_count": 20,
     "metadata": {},
     "output_type": "execute_result"
    }
   ],
   "source": [
    "opt.niter"
   ]
  },
  {
   "cell_type": "code",
   "execution_count": 21,
   "id": "db0f862f-789b-4c88-abc2-0877486897b2",
   "metadata": {},
   "outputs": [
    {
     "data": {
      "text/plain": [
       "100"
      ]
     },
     "execution_count": 21,
     "metadata": {},
     "output_type": "execute_result"
    }
   ],
   "source": [
    "opt.niter_decay"
   ]
  },
  {
   "cell_type": "code",
   "execution_count": 22,
   "id": "e57ab5e8-e401-4edb-b707-dd4886e5672e",
   "metadata": {},
   "outputs": [
    {
     "data": {
      "text/plain": [
       "(1, 201)"
      ]
     },
     "execution_count": 22,
     "metadata": {},
     "output_type": "execute_result"
    }
   ],
   "source": [
    "start_epoch, opt.niter + opt.niter_decay + 1"
   ]
  },
  {
   "cell_type": "code",
   "execution_count": null,
   "id": "a82a5d29-a3ed-4dae-9c57-188330e35503",
   "metadata": {},
   "outputs": [],
   "source": []
  },
  {
   "cell_type": "code",
   "execution_count": 23,
   "id": "1f5052b4-b166-4d86-a9bc-ab8051932b5b",
   "metadata": {},
   "outputs": [
    {
     "name": "stderr",
     "output_type": "stream",
     "text": [
      "/home/hz/anaconda3/envs/comp6321/lib/python3.8/site-packages/torchvision/transforms/transforms.py:310: UserWarning: The use of the transforms.Scale transform is deprecated, please use transforms.Resize instead.\n",
      "  warnings.warn(\"The use of the transforms.Scale transform is deprecated, \" +\n",
      "/home/hz/anaconda3/envs/comp6321/lib/python3.8/site-packages/torchvision/transforms/transforms.py:280: UserWarning: Argument interpolation should be of type InterpolationMode instead of int. Please, use InterpolationMode enum.\n",
      "  warnings.warn(\n",
      "/home/hz/anaconda3/envs/comp6321/lib/python3.8/site-packages/torchvision/transforms/transforms.py:310: UserWarning: The use of the transforms.Scale transform is deprecated, please use transforms.Resize instead.\n",
      "  warnings.warn(\"The use of the transforms.Scale transform is deprecated, \" +\n",
      "/home/hz/anaconda3/envs/comp6321/lib/python3.8/site-packages/torchvision/transforms/transforms.py:280: UserWarning: Argument interpolation should be of type InterpolationMode instead of int. Please, use InterpolationMode enum.\n",
      "  warnings.warn(\n",
      "/home/hz/anaconda3/envs/comp6321/lib/python3.8/site-packages/torch/nn/functional.py:718: UserWarning: Named tensors and all their associated APIs are an experimental feature and subject to change. Please do not use them for anything important until they are released as stable. (Triggered internally at  /opt/conda/conda-bld/pytorch_1623448278899/work/c10/core/TensorImpl.h:1156.)\n",
      "  return torch.max_pool2d(input, kernel_size, stride, padding, dilation, ceil_mode)\n",
      "/home/hz/anaconda3/envs/comp6321/lib/python3.8/site-packages/torch/nn/_reduction.py:42: UserWarning: size_average and reduce args will be deprecated, please use reduction='mean' instead.\n",
      "  warnings.warn(warning.format(ret))\n",
      "/home/hz/anaconda3/envs/comp6321/lib/python3.8/site-packages/torch/nn/functional.py:1794: UserWarning: nn.functional.tanh is deprecated. Use torch.tanh instead.\n",
      "  warnings.warn(\"nn.functional.tanh is deprecated. Use torch.tanh instead.\")\n",
      "/home/hz/anaconda3/envs/comp6321/lib/python3.8/site-packages/torch/nn/functional.py:3981: UserWarning: Default grid_sample and affine_grid behavior has changed to align_corners=False since 1.3.0. Please specify align_corners=True if the old behavior is desired. See the documentation of grid_sample for details.\n",
      "  warnings.warn(\n"
     ]
    },
    {
     "name": "stdout",
     "output_type": "stream",
     "text": [
      "1\n",
      "2\n",
      "Exiting loop.\n",
      "End of epoch 1 / 200 \t Time Taken: 1 sec\n"
     ]
    }
   ],
   "source": [
    "step = 0 \n",
    "\n",
    "for epoch in range(start_epoch, opt.niter + opt.niter_decay + 1):\n",
    "    #import ipdb; ipdb.set_trace()\n",
    "    \n",
    "    epoch_start_time = time.time()\n",
    "    if epoch != start_epoch:\n",
    "        epoch_iter = epoch_iter % dataset_size\n",
    "        \n",
    "    # iterate over the dataset\n",
    "    for i, data in enumerate(dataset, start=epoch_iter):\n",
    "\n",
    "        iter_start_time = time.time()\n",
    "        total_steps += opt.batchSize\n",
    "        epoch_iter += opt.batchSize\n",
    "\n",
    "        # whether to collect output images\n",
    "        #save_fake = total_steps % opt.display_freq == display_delta\n",
    "        save_fake = True\n",
    "\n",
    "        ##add gaussian noise channel\n",
    "        ## wash the label\n",
    "        t_mask = torch.FloatTensor((data['label'].cpu().numpy() == 7).astype(np.float))\n",
    "        #\n",
    "        # data['label'] = data['label'] * (1 - t_mask) + t_mask * 4\n",
    "        mask_clothes = torch.FloatTensor((data['label'].cpu().numpy() == 4).astype(np.int))\n",
    "        mask_fore = torch.FloatTensor((data['label'].cpu().numpy() > 0).astype(np.int))\n",
    "        img_fore = data['image'] * mask_fore\n",
    "        img_fore_wc = img_fore * mask_fore\n",
    "        all_clothes_label = changearm(data['label'])\n",
    "\n",
    "        ############## Forward Pass ######################\n",
    "        losses, fake_image, real_image, input_label,L1_loss,style_loss,clothes_mask,CE_loss,rgb,alpha= model(Variable(data['label'].cuda()),Variable(data['edge'].cuda()),Variable(img_fore.cuda()),Variable(mask_clothes.cuda())\n",
    "                                                                                                    ,Variable(data['color'].cuda()),Variable(all_clothes_label.cuda()),Variable(data['image'].cuda()),Variable(data['pose'].cuda()) ,Variable(data['image'].cuda()) ,Variable(mask_fore.cuda()))\n",
    "\n",
    "        # sum per device losses\n",
    "        losses = [ torch.mean(x) if not isinstance(x, int) else x for x in losses ]\n",
    "        loss_dict = dict(zip(model.module.loss_names, losses))\n",
    "\n",
    "        # calculate final loss scalar\n",
    "        loss_D = (loss_dict['D_fake'] + loss_dict['D_real']) * 0.5\n",
    "        loss_G = loss_dict['G_GAN']+torch.mean(CE_loss)#loss_dict.get('G_GAN_Feat',0)+torch.mean(L1_loss)+loss_dict.get('G_VGG',0)\n",
    "\n",
    "        writer.add_scalar('loss_d', loss_D, step)\n",
    "        writer.add_scalar('loss_g', loss_G, step)\n",
    "        writer.add_scalar('loss_CE', torch.mean(CE_loss), step)\n",
    "        writer.add_scalar('loss_g_gan', loss_dict['G_GAN'], step)\n",
    "\n",
    "        ############## Display results and errors ##########\n",
    "\n",
    "        \n",
    "        ### display output images\n",
    "        a = generate_label_color(generate_label_plain(input_label)).float().cuda()\n",
    "        b = real_image.float().cuda()\n",
    "        c = fake_image.float().cuda()\n",
    "        d=torch.cat([clothes_mask,clothes_mask,clothes_mask],1)\n",
    "        combine = torch.cat([a[0],d[0],b[0],c[0],rgb[0]], 2).squeeze()\n",
    "        # combine=c[0].squeeze()\n",
    "        cv_img=(combine.permute(1,2,0).detach().cpu().numpy()+1)/2\n",
    "        if step % 1 == 0:\n",
    "            writer.add_image('combine', (combine.data + 1) / 2.0, step)\n",
    "            rgb=(cv_img*255).astype(np.uint8)\n",
    "            bgr=cv2.cvtColor(rgb,cv2.COLOR_RGB2BGR)\n",
    "            n=str(step)+'.jpg'\n",
    "            cv2.imwrite('../sample_eda/'+data['name'][0],bgr)\n",
    "        step += 1\n",
    "        print(step)\n",
    "        \n",
    "        ### save latest model\n",
    "        if total_steps % opt.save_latest_freq == save_delta:\n",
    "            # print('saving the latest model (epoch %d, total_steps %d)' % (epoch, total_steps))\n",
    "            # model.module.save('latest')\n",
    "            # np.savetxt(iter_path, (epoch, epoch_iter), delimiter=',', fmt='%d')\n",
    "            pass\n",
    "        if epoch_iter >= dataset_size:\n",
    "            break\n",
    "        \n",
    "        if i == 1:\n",
    "            print(\"Exiting loop.\")\n",
    "            break\n",
    "       \n",
    "    # end of epoch \n",
    "    iter_end_time = time.time()\n",
    "    print('End of epoch %d / %d \\t Time Taken: %d sec' %\n",
    "          (epoch, opt.niter + opt.niter_decay, time.time() - epoch_start_time))\n",
    "    break\n",
    "\n",
    "    ### save model for this epoch\n",
    "    if epoch % opt.save_epoch_freq == 0:\n",
    "        print('saving the model at the end of epoch %d, iters %d' % (epoch, total_steps))        \n",
    "        model.module.save('latest')\n",
    "        model.module.save(epoch)\n",
    "        # np.savetxt(iter_path, (epoch+1, 0), delimiter=',', fmt='%d')\n",
    "\n",
    "    ### instead of only training the local enhancer, train the entire network after certain iterations\n",
    "    if (opt.niter_fix_global != 0) and (epoch == opt.niter_fix_global):\n",
    "        model.module.update_fixed_params()\n",
    "\n",
    "    ### linearly decay learning rate after certain iterations\n",
    "    if epoch > opt.niter:\n",
    "        model.module.update_learning_rate()"
   ]
  },
  {
   "cell_type": "code",
   "execution_count": null,
   "id": "0df7f9b6-542d-4d00-b1f8-30a60f973633",
   "metadata": {},
   "outputs": [],
   "source": []
  },
  {
   "cell_type": "code",
   "execution_count": null,
   "id": "95b0ff9a-8823-4e74-8f54-4ea0a193244a",
   "metadata": {},
   "outputs": [],
   "source": []
  },
  {
   "cell_type": "code",
   "execution_count": null,
   "id": "b301ad77-1250-475a-b78f-28acffca2960",
   "metadata": {},
   "outputs": [],
   "source": []
  }
 ],
 "metadata": {
  "kernelspec": {
   "display_name": "Python 3 (ipykernel)",
   "language": "python",
   "name": "python3"
  },
  "language_info": {
   "codemirror_mode": {
    "name": "ipython",
    "version": 3
   },
   "file_extension": ".py",
   "mimetype": "text/x-python",
   "name": "python",
   "nbconvert_exporter": "python",
   "pygments_lexer": "ipython3",
   "version": "3.8.11"
  }
 },
 "nbformat": 4,
 "nbformat_minor": 5
}
